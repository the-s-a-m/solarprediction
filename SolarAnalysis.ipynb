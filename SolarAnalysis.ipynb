{
 "cells": [
  {
   "cell_type": "markdown",
   "metadata": {},
   "source": [
    "# SolarAnalysis"
   ]
  },
  {
   "cell_type": "markdown",
   "metadata": {},
   "source": [
    "### Mindestanforderung an das Projekt:\n",
    "Das Projekt muss ein Projekt zum Thema Applied Data Science sein, d.h. auf den im Modul Applied Data Science behandelten Inhalten aufbauen.\n",
    "Das Projekt muss mehrere im Modul vorgestellte Themen integrieren, im Minimum sind dies die folgenden: \n",
    "\n",
    "* (1) Datenerhebung mittels Web Scraping und/oder API\n",
    "* (2) Datenaufbereitung (dazu können auch Methoden aus Data Science Fundamantals verwendet werden)\n",
    "* (3) Verwendung eines ML Frameworks/Library (tensorflow/keras, sklearn oder auch einige im Kurs nicht betrachtete wie pytorch) \n",
    "* (4) Versionierung und Verfügbarmachen der Daten und des Modells über Github\n",
    "* (5) Betrachtung Ethische Fragestellungen im Zusammenhang mit dem Projekt"
   ]
  },
  {
   "cell_type": "markdown",
   "metadata": {},
   "source": [
    "### Zusatzpunkte für Projektarbeit, falls folgendes erfüllt:\n",
    "* Kreativität der Umsetzung (kreativ ist alles, was in den Lektionen und Übungen nicht vorgegeben wurde)\n",
    "* Verwendung von sowohl Web Scraping als auch API's für den Datenbezug\n",
    "* Verwendung mehr als eine Programmiersprache (z.B. Python und R)\n",
    "* Verwendung von Docker oder eines Cloud-Services (z.B. Jupyter-Notebook via Sagemaker)\n",
    "* Verwendung einer fortgeschrittenen Deep Learning Struktur/Technik (z.B.CNN, RNN, Transfer Learning, Transformers…)\n",
    "* Zusätzliche Integration von Operations Research Methoden (Lineare Optimierung) und/oder eines Blockchain-Modells"
   ]
  },
  {
   "cell_type": "markdown",
   "metadata": {},
   "source": [
    "### Referat zum Projekt (max. 9 von total 18 Punkten):\n",
    "* Qualität der Präsentation und Vertrautheit mit dem Projekt selbst\n",
    "* Fähigkeit, Fragen zum Projekt zu antworten \n",
    "* Fähigkeit, Fragen zu den Kursinhalten im Allgemeinen zu beantworten"
   ]
  },
  {
   "cell_type": "markdown",
   "metadata": {},
   "source": [
    "### Vorgehen\n",
    "* 1. [DONE] Erstellen von GIT repo. Update auf diesem Repo\n",
    "* 2. [DONE] Rohdaten eingelesen und Cleanup \n",
    "* 3. [DONE] Vorverarbeitetung (Extraktion von energy-day, total aus 2 Konvertern, sinus/cosinus für repetierende elemente) \n",
    "* 4. [DONE] Visualisierung der Vorverarbeitung (Aufgefallen: Wenn es stark regnet oder schatten ist energie 0)\n",
    "* 5. [DONE] Laden des vergangenen Wetters mittels Web Scaping von <strong>timeanddate</strong> vom Ort switzerland/zurich/historic\n",
    "* 6. [DONE] Einarbeiten der Wetterdaten (mit cleanup und vorverabeitung)\n",
    "* 7. [DONE] Die Datenaufbereitung verbessern ink Wetter.\n",
    "* 8. Predictions ausprobieren (verwenden verschiedener ML-Frameworks wie Tensorflow) [Stefan & Rosalia, modelle ausprobieren]\n",
    "* 9. Modelle abspeichern und laden\n",
    "* 10. Erstellen der Präsentation (Betrachten der Ethnischen Fragestellung mit diesem Projekt)<br>\n",
    "Ethisch: noch beantworten - Ziel der Arbeit: Besitzer der Solaranlage wissen, wie und wann Strom gebraucht wird, damit sie ihn sprich Maschinen im Haushalt effizient nutzen können"
   ]
  },
  {
   "cell_type": "markdown",
   "metadata": {},
   "source": [
    "### Set libss"
   ]
  },
  {
   "cell_type": "code",
   "execution_count": null,
   "metadata": {},
   "outputs": [],
   "source": [
    "# Importing libraries\n",
    "import os\n",
    "import numpy as np # vectors and matrices\n",
    "import pandas as pd # tables and data manipulations\n",
    "pd.set_option('mode.use_inf_as_na', True)\n",
    "from matplotlib import pyplot as plt\n",
    "\n",
    "import warnings\n",
    "warnings.filterwarnings('ignore')"
   ]
  },
  {
   "cell_type": "markdown",
   "metadata": {},
   "source": [
    "## (1) WebScraping (load weather data)\n",
    "* Weather URL must be set in weatherURL.txt (is in gitignore)\n",
    "* Define years and month to load in yearsToRequest and monthToRequest\n",
    "* Data is loaded into the folder weatherData (created if not existing)\n",
    "<br>\n",
    "<strong>Important: Data is only loaded once and then used from the folder weatherData</strong>\n",
    "<br>\n",
    "<strong>Please skip this step and use to loading command at the end</strong>"
   ]
  },
  {
   "cell_type": "code",
   "execution_count": null,
   "metadata": {},
   "outputs": [],
   "source": [
    "# Please skip this step and use to loading command at the end\n",
    "import requests\n",
    "import time\n",
    "\n",
    "weatherURLFile = 'weatherURL.txt'\n",
    "weatherFolder = 'weatherData'\n",
    "yearsToRequest = ['2017', '2018', '2019', '2020', '2021']\n",
    "monthToRequest = ['1', '2', '3', '4', '5', '6', '7', '8', '9', '10', '11', '12']\n",
    "\n",
    "# Load url from file\n",
    "if os.path.isfile(weatherURLFile) and not os.path.exists(\"weatherDataExtract.csv\"):\n",
    "    file = open(weatherURLFile,mode='r')\n",
    "    baseURL = file.read()\n",
    "    file.close()\n",
    "    \n",
    "    # create if not exist\n",
    "    if not os.path.exists(weatherFolder):\n",
    "        os.mkdir(weatherFolder)\n",
    "    \n",
    "    # Request a websites content\n",
    "    firefoxHeaders = {\"User-Agent\":\"Mozilla/5.0 (Windows NT 10.0; Win64; x64; rv:88.0) Gecko/20100101 Firefox/88.0\"}\n",
    "    \n",
    "    for year in yearsToRequest:\n",
    "        for month in monthToRequest:\n",
    "            page = requests.get(baseURL + \"?month=\"+month+\"&year=\"+year, headers=firefoxHeaders)\n",
    "\n",
    "            # Parsing the page content with BeautifulSoup\n",
    "            from bs4 import BeautifulSoup\n",
    "            soup = BeautifulSoup(page.content, 'html.parser', from_encoding=\"utf8\")\n",
    "            \n",
    "            with open(weatherFolder + \"/\"+year + \"_\" + month +\".html\", \"w\", encoding=\"utf8\") as file:\n",
    "                file.write(str(soup))\n",
    "\n",
    "            time.sleep(68)\n",
    "    # Print the page content\n",
    "    #print(soup.prettify())\n",
    "else:\n",
    "    print (\"File\",weatherURLFile,\"does not exist OR weatherDataExtract.csv does already exist - data is loaded from this file.\")\n",
    "    weatherDf = pd.read_csv('weatherDataExtract.csv', index_col=0)\n",
    "    print(weatherDf)"
   ]
  },
  {
   "cell_type": "markdown",
   "metadata": {},
   "source": [
    "#### Data description\n",
    "* Html file containing in a script tag the data object called var data = {...\n",
    "* 1. Extract data object\n",
    "* 2. Extract date and time\n",
    "* 3. Extract into panda dataframe"
   ]
  },
  {
   "cell_type": "code",
   "execution_count": null,
   "metadata": {},
   "outputs": [],
   "source": [
    "#if weatherDataExtract.csv is in directory skip this step!\n",
    "import json\n",
    "import datetime\n",
    "from os import walk\n",
    "\n",
    "if os.path.exists(weatherFolder) and not os.path.exists(\"weatherDataExtract.csv\"):\n",
    "    dataPrepared = []\n",
    "    _, _, filenames = next(walk(weatherFolder))\n",
    "    #print(filenames)\n",
    "    for filename in filenames:\n",
    "        f = open(weatherFolder + \"/\" + filename, \"r\")\n",
    "        fullText = f.read()\n",
    "        #1. Extract data object\n",
    "        startPos = fullText.find('var data=')\n",
    "        endPos = fullText.find('window.month', startPos)\n",
    "        jsonDataObject = fullText[(startPos+9):(endPos-1)]\n",
    "        #print(jsonDataObject)\n",
    "        # check the model in https://json2csharp.com/ to get an overview over the data\n",
    "        pythonData = json.loads(jsonDataObject)\n",
    "        #print(pythonData['detail'])\n",
    "        # Attributes\n",
    "        # bool hl, string hls, string hlsh, double date, string ts, \n",
    "        # string ds, int icon, string desc, temp, templow, baro, wind, int wd, int hum\n",
    "        for detail in pythonData['detail']:\n",
    "            #print(detail['ds'], detail['icon'], detail['desc'], detail['temp'], detail['templow'], detail['baro'], detail['wind'], detail['wd'], detail['hum'])\n",
    "            #Sonntag, 1. Januar 2017, 00:00 â€” 06:00 14 Ice fog. -3 -4 1027 8 220 99\n",
    "            #2. Conver time values\n",
    "            #Sonntag, 1. Januar 2017, 00:00 â€” 06:00\n",
    "            detail['ds'] = detail['ds'].replace(\" Januar \", \"01.\")\n",
    "            detail['ds'] = detail['ds'].replace(\" Februar \", \"02.\")\n",
    "            detail['ds'] = detail['ds'].replace(\" MÃ¤rz \", \"03.\")\n",
    "            detail['ds'] = detail['ds'].replace(\" April \", \"04.\")\n",
    "            detail['ds'] = detail['ds'].replace(\" Mai \", \"05.\")\n",
    "            detail['ds'] = detail['ds'].replace(\" Juni \", \"06.\")\n",
    "            detail['ds'] = detail['ds'].replace(\" Juli \", \"07.\")\n",
    "            detail['ds'] = detail['ds'].replace(\" August \", \"08.\")\n",
    "            detail['ds'] = detail['ds'].replace(\" September \", \"09.\")\n",
    "            detail['ds'] = detail['ds'].replace(\" Oktober \", \"10.\")\n",
    "            detail['ds'] = detail['ds'].replace(\" November \", \"11.\")\n",
    "            detail['ds'] = detail['ds'].replace(\" Dezember \", \"12.\")\n",
    "            dateTimeParts = detail['ds'].split(\", \")\n",
    "            start = dateTimeParts[1] + \" \" + dateTimeParts[2].split(\" â€” \")[0]\n",
    "            end = dateTimeParts[1] + \" \" + dateTimeParts[2].split(\" â€” \")[1]\n",
    "            #print(start, \"to\", end)\n",
    "            #1.12.2017 06:00 to 1.12.2017 12:00\n",
    "            startDateTime = datetime.datetime.strptime(start, '%d.%m.%Y %H:%M')\n",
    "            endDateTime = datetime.datetime.strptime(end, '%d.%m.%Y %H:%M')\n",
    "            #print('Date:', startDateTime.date())\n",
    "            #print('Time:', startDateTime.time())\n",
    "            d = detail\n",
    "            if \"icon\" in d and \"desc\" in d and \"temp\" in d and \"templow\" in d and \"baro\" in d and \"wind\" in d and \"wd\" in d and \"hum\" in d:\n",
    "                dataPrepared.append([startDateTime, endDateTime, detail['icon'], detail['desc'], detail['temp'], detail['templow'], detail['baro'], detail['wind'], detail['wd'], detail['hum']])\n",
    "\n",
    "    weatherDf = pd.DataFrame(np.array(dataPrepared), columns=['startDateTime', 'endDateTime', 'icon', 'desc', 'temp', 'templow', 'baro', 'wind', 'wd', 'hum'])\n",
    "    weatherDf.to_csv('weatherDataExtract.csv')\n",
    "else:\n",
    "    print(\"Weatherfolder does not exist OR weatherDataExtract.csv already exist - data is loaded from this file.\")\n",
    "    weatherDf = pd.read_csv('weatherDataExtract.csv', index_col=0)\n",
    "\n",
    "weatherDf.head(5)"
   ]
  },
  {
   "cell_type": "code",
   "execution_count": null,
   "metadata": {},
   "outputs": [],
   "source": [
    "weatherDf.dtypes"
   ]
  },
  {
   "cell_type": "markdown",
   "metadata": {},
   "source": [
    "## (1) Datasource2 (SolarData stored in solarlogger.zip file)"
   ]
  },
  {
   "cell_type": "code",
   "execution_count": null,
   "metadata": {},
   "outputs": [],
   "source": [
    "solarloggerFile = 'solarlogger'\n",
    "solarloggerZipFile = solarloggerFile + \".zip\"\n",
    "solarloggerCsvFile = solarloggerFile + \".csv\"\n",
    "if not os.path.isfile(solarloggerCsvFile):\n",
    "    print (\"File\",solarloggerCsvFile,\"not exist - extracting from\",solarloggerZipFile)\n",
    "    import zipfile\n",
    "    with zipfile.ZipFile(solarloggerZipFile, 'r') as zip_ref:\n",
    "        zip_ref.extractall(\".\")\n",
    "else:\n",
    "    print (\"File solarlogger.csv exist - do nothing\")"
   ]
  },
  {
   "cell_type": "markdown",
   "metadata": {},
   "source": [
    "### Rohdaten vom solarlogger.csv\n",
    "Datenfelder: \"ID\",\"InstallationNR\",\"DateTime\",\"Data\""
   ]
  },
  {
   "cell_type": "code",
   "execution_count": null,
   "metadata": {},
   "outputs": [],
   "source": [
    "\"1\",\"4\",\"2017-07-02 16:00:52\",\"{ &quot;solarinstallationname&quot;: &quot;CH_AG&quot;, &quot;requesttime&quot;: &quot;2017.07.02 16:00:52&quot;, &quot;devices&quot;: [{&quot;device&quot;: &quot;01&quot;, &quot;ENERGY_DAY&quot;: 8.4, &quot;ENERGY_MONTH&quot;: 44, &quot;ENERGY_YEAR&quot;: 4865, &quot;ENERGY_TOTAL&quot;: 27159, &quot;TEMPERATURE_MAXIMUM&quot;: 39, &quot;P_AC&quot;: 3066, &quot;U_AC_L1&quot;: 238.5, &quot;U_AC_L2&quot;: 237.7, &quot;U_AC_L3&quot;: 237.3, &quot;I_AC_L1&quot;: 2.24, &quot;I_AC_L2&quot;: 2.2, &quot;I_AC_L3&quot;: 2.24, &quot;U_AC_10_MIN_MEAN_L1&quot;: 237.4, &quot;U_AC_10_MIN_MEAN_L2&quot;: 237.4, &quot;U_AC_10_MIN_MEAN_L3&quot;: 236.8, &quot;U_DC_L1&quot;: 685.6, &quot;U_DC_L2&quot;: 693.7, &quot;I_DC_L1&quot;: 1.11, &quot;I_DC_L2&quot;: 1.01}, {&quot;device&quot;: &quot;02&quot;, &quot;ENERGY_DAY&quot;: 8.4, &quot;ENERGY_MONTH&quot;: 45, &quot;ENERGY_YEAR&quot;: 5204, &quot;ENERGY_TOTAL&quot;: 29016, &quot;TEMPERATURE_MAXIMUM&quot;: 40, &quot;P_AC&quot;: 3056, &quot;U_AC_L1&quot;: 237.2, &quot;U_AC_L2&quot;: 237.2, &quot;U_AC_L3&quot;: 238.1, &quot;I_AC_L1&quot;: 2.24, &quot;I_AC_L2&quot;: 2.24, &quot;I_AC_L3&quot;: 2.19, &quot;U_AC_10_MIN_MEAN_L1&quot;: 237, &quot;U_AC_10_MIN_MEAN_L2&quot;: 236.3, &quot;U_AC_10_MIN_MEAN_L3&quot;: 236.9, &quot;U_DC_L1&quot;: 670.1, &quot;U_DC_L2&quot;: 674.1, &quot;I_DC_L1&quot;: 1.14, &quot;I_DC_L2&quot;: 1.11}]}\""
   ]
  },
  {
   "cell_type": "markdown",
   "metadata": {},
   "source": [
    "### Importing and preparing data"
   ]
  },
  {
   "cell_type": "code",
   "execution_count": null,
   "metadata": {},
   "outputs": [],
   "source": [
    "#html decode function needed for extraction\n",
    "def html_decode(s):\n",
    "    \"\"\"\n",
    "    Returns the ASCII decoded version of the given HTML string. This does\n",
    "    NOT remove normal HTML tags like <p>.\n",
    "    \"\"\"\n",
    "    htmlCodes = (\n",
    "            (\"'\", '&#39;'),\n",
    "            ('\"', '&quot;'),\n",
    "            ('>', '&gt;'),\n",
    "            ('<', '&lt;'),\n",
    "            ('&', '&amp;')\n",
    "        )\n",
    "    for code in htmlCodes:\n",
    "        s = s.replace(code[1], code[0])\n",
    "    return s\n",
    "\n",
    "# Reading data and extract json content\n",
    "if not os.path.isfile(\"energyDataExtract.csv\"):\n",
    "    energy = pd.read_csv('solarlogger.csv', parse_dates=['DateTime'])\n",
    "    totalData = len(energy.index)\n",
    "    print('Total Datasets ' + str(totalData))\n",
    "\n",
    "    import json\n",
    "    for idx, data in enumerate(energy['Data']):\n",
    "        dataobject = json.loads(html_decode(data))\n",
    "        for key, value in dataobject.items():\n",
    "            if(key == 'devices'):\n",
    "                for key2, deviceDta in enumerate(value):\n",
    "                    deviceKey = 'd' + str(key2)\n",
    "                    for key3, devicePwr in deviceDta.items(): \n",
    "                        devicePwrKey = deviceKey + '_' + str(key3)\n",
    "                        if(devicePwrKey not in energy):\n",
    "                            energy[devicePwrKey] = np.nan\n",
    "                        energy[devicePwrKey][idx] = devicePwr\n",
    "                        #print(devicePwrKey, devicePwr)\n",
    "            else:\n",
    "                if (key not in energy):\n",
    "                    energy[key] = np.nan\n",
    "                energy[key][idx] = value\n",
    "        #if(idx > 2):\n",
    "        #    break\n",
    "        if(idx % 2500 == 0):\n",
    "            print('pos ' + str(idx) + '/' + str(totalData))\n",
    "\n",
    "    # Add year, month, weekday and hour\n",
    "    energy['year']          = energy['DateTime'].dt.year\n",
    "    energy['month']         = energy['DateTime'].dt.month\n",
    "    energy['day']           = energy['DateTime'].dt.day\n",
    "    energy['weekday']       = energy['DateTime'].dt.day_name()\n",
    "    energy['weekday_num']   = energy['DateTime'].dt.weekday + 1\n",
    "    energy['time_hour']     = energy['DateTime'].dt.hour\n",
    "\n",
    "    # Set index\n",
    "    energy = energy.set_index('DateTime')\n",
    "    \n",
    "    # Combine energy output and do cleanup\n",
    "    columns = ['Data', 'd0_device', 'd1_device', 'InstallationNR']\n",
    "    energy.drop(columns, inplace=True, axis=1)\n",
    "\n",
    "    energy['producedDay'] = energy['d0_ENERGY_DAY'] + energy['d1_ENERGY_DAY']\n",
    "    energy['producedMonth'] = energy['d0_ENERGY_MONTH'] + energy['d1_ENERGY_MONTH']\n",
    "    energy['producedYear'] = energy['d0_ENERGY_YEAR'] + energy['d1_ENERGY_YEAR']\n",
    "    energy['producedTotal'] = energy['d0_ENERGY_TOTAL'] + energy['d1_ENERGY_TOTAL']\n",
    "    energy['producing'] = energy['d0_P_AC'] + energy['d1_P_AC']\n",
    "\n",
    "    # Showing the dataframe\n",
    "    energy.to_csv('energyDataExtract.csv')\n",
    "else:\n",
    "    energy = pd.read_csv('energyDataExtract.csv', index_col=0)\n",
    "\n",
    "energy.head(5)"
   ]
  },
  {
   "cell_type": "code",
   "execution_count": null,
   "metadata": {},
   "outputs": [],
   "source": [
    "energy.dtypes"
   ]
  },
  {
   "cell_type": "markdown",
   "metadata": {},
   "source": [
    "## (2) Combine datasets weather and solar production\n",
    "* Map date and time(every hour) of weather data to solar production (more precies every 10 minutes)"
   ]
  },
  {
   "cell_type": "code",
   "execution_count": null,
   "metadata": {
    "scrolled": true
   },
   "outputs": [],
   "source": [
    "if not os.path.isfile(\"combinedDataExtract.csv\"):\n",
    "    combined = energy.copy()\n",
    "    # fixed issue because date was string field\n",
    "    combined['requesttime'] = pd.to_datetime(combined['requesttime'], utc=True)\n",
    "    weatherDf['startDateTime'] = pd.to_datetime(weatherDf['startDateTime'], utc=True)\n",
    "    weatherDf['endDateTime'] = pd.to_datetime(weatherDf['endDateTime'], utc=True)\n",
    "\n",
    "    interateParams = ['icon','desc','temp','templow','baro','wind','wd','hum']\n",
    "    for idx, element in enumerate(interateParams):\n",
    "        if(element not in combined):\n",
    "            if(element == 'desc'):\n",
    "                combined[element] = \"\"\n",
    "            else:\n",
    "                combined[element] = np.int64(0)\n",
    "\n",
    "    counter = 0\n",
    "    totalData = len(combined.index)\n",
    "    print('Total',totalData)\n",
    "    for idx, data in combined.iterrows():\n",
    "        #print(data['requesttime'])\n",
    "        df = weatherDf[(data['requesttime'] >= weatherDf['startDateTime']) & (data['requesttime'] <= weatherDf['endDateTime'])]\n",
    "        #print(df)\n",
    "        for idx2, element in enumerate(interateParams):\n",
    "            if(df[element].size > 0):\n",
    "                if element == 'desc': \n",
    "                    #print(df[element].item())\n",
    "                    combined[element][idx] = df[element].item()\n",
    "                else:\n",
    "                    #print(df[element])\n",
    "                    combined[element][idx] = df[element]\n",
    "        if(counter % 2500 == 0):\n",
    "            print('pos ' + str(counter) + '/' + str(totalData))\n",
    "        counter = counter + 1\n",
    "    # Saving the dataframe\n",
    "    combined.to_csv('combinedDataExtract.csv')\n",
    "else:\n",
    "    combined = pd.read_csv('combinedDataExtract.csv', index_col=0)\n",
    "\n",
    "combined.head(5)"
   ]
  },
  {
   "cell_type": "markdown",
   "metadata": {},
   "source": [
    "## (2) Data preparation, cleanup and visualization"
   ]
  },
  {
   "cell_type": "code",
   "execution_count": null,
   "metadata": {
    "scrolled": false
   },
   "outputs": [],
   "source": [
    "# Check data types\n",
    "combined.dtypes"
   ]
  },
  {
   "cell_type": "code",
   "execution_count": null,
   "metadata": {},
   "outputs": [],
   "source": [
    "# Check for missing values and drop it columnwise if exist\n",
    "print(combined.isna().sum())\n",
    "combined = combined.dropna()\n",
    "combined.count"
   ]
  },
  {
   "cell_type": "code",
   "execution_count": null,
   "metadata": {
    "scrolled": true
   },
   "outputs": [],
   "source": [
    "#energyByMonth = combined.groupby(['year','month']).max()\n",
    "energyByMonth = combined.groupby(['year','month']).tail(1)\n",
    "energyByMonth"
   ]
  },
  {
   "cell_type": "code",
   "execution_count": null,
   "metadata": {},
   "outputs": [],
   "source": [
    "# Plot full time-series of electricity consumtion as line-plot\n",
    "plt.figure(figsize=(15, 6))\n",
    "plt.plot(energyByMonth.producedMonth, color='#008000')\n",
    "plt.title('Energy procued in Wh (daily data)')\n",
    "plt.xlabel(\"Year-Month\")\n",
    "plt.ylabel(\"Wh\")\n",
    "plt.grid(True)\n",
    "plt.show()"
   ]
  },
  {
   "cell_type": "code",
   "execution_count": null,
   "metadata": {},
   "outputs": [],
   "source": [
    "#energyByDay\n",
    "energyByDay = combined.groupby(['year','month','day']).tail(1)\n",
    "energyByDay"
   ]
  },
  {
   "cell_type": "code",
   "execution_count": null,
   "metadata": {},
   "outputs": [],
   "source": [
    "# Plot full time-series of electricity consumtion as line-plot\n",
    "plt.figure(figsize=(15, 6))\n",
    "plt.plot(energyByDay.producedDay, color='#008000')\n",
    "plt.title('Energy procued in Wh (daily data)')\n",
    "plt.xlabel(\"Year-Month\")\n",
    "plt.ylabel(\"Wh\")\n",
    "plt.grid(True)\n",
    "plt.show()"
   ]
  },
  {
   "cell_type": "code",
   "execution_count": null,
   "metadata": {},
   "outputs": [],
   "source": [
    "# Plot full time-series of electricity consumtion as line-plot\n",
    "plt.figure(figsize=(15, 6))\n",
    "plt.plot(energyByDay.loc['2017-02-01':'2017-07-31'].producedDay, color='#008000')\n",
    "plt.title('Energy consum MWh (hourly data)')\n",
    "plt.xlabel(\"Year-Month\")\n",
    "plt.ylabel(\"MWh\")\n",
    "plt.grid(True)\n",
    "plt.show()"
   ]
  },
  {
   "cell_type": "code",
   "execution_count": null,
   "metadata": {},
   "outputs": [],
   "source": [
    "#Grund für problem:\n",
    "#1. Solaranlage wurde am 02.07.2017 angebunden\n",
    "#2. Alte Monatswerte wurde aus Excel generiert per SQL Inserts\n",
    "#Lösung: Daher wurden diese mit dropNA entfernt"
   ]
  },
  {
   "cell_type": "markdown",
   "metadata": {},
   "source": [
    "### Encoding cyclical time variables using sin() and cos()"
   ]
  },
  {
   "cell_type": "code",
   "execution_count": null,
   "metadata": {},
   "outputs": [],
   "source": [
    "import matplotlib.pyplot as plt\n",
    "import matplotlib.gridspec as gridspec\n",
    "import pandas as pd\n",
    "import numpy as np\n",
    "\n",
    "if not os.path.isfile(\"combinedDataIncludingCleanup.csv\"):\n",
    "    # Encoding hours per day\n",
    "    combined['sin_hour'] = np.sin(2*np.pi*combined.time_hour/24)\n",
    "    combined['cos_hour'] = np.cos(2*np.pi*combined.time_hour/24)\n",
    "\n",
    "    # Encoding weekdays per week\n",
    "    combined['sin_weekday'] = np.sin(2*np.pi*combined.weekday_num/7)\n",
    "    combined['cos_weekday'] = np.cos(2*np.pi*combined.weekday_num/7)\n",
    "\n",
    "    # Encoding months per year\n",
    "    combined['sin_month'] = np.sin(2*np.pi*combined.month/12)\n",
    "    combined['cos_month'] = np.cos(2*np.pi*combined.month/12)\n",
    "\n",
    "    # Encoding days per year\n",
    "    combined['sin_day'] = np.sin(2*np.pi*(combined.month * 30 + combined.day)/360)\n",
    "    combined['cos_day'] = np.cos(2*np.pi*(combined.month * 30 + combined.day)/360)\n",
    "    # Saving the dataframe\n",
    "    combined.to_csv('combinedDataIncludingCleanup.csv')\n",
    "else:\n",
    "    combined = pd.read_csv('combinedDataIncludingCleanup.csv', index_col=0)\n",
    "\n",
    "energyByMonth = combined.groupby(['year','month']).tail(1)\n",
    "print('energyByMonth')\n",
    "print(energyByMonth.head(5))\n",
    "energyByDay = combined.groupby(['year','month','day']).tail(1)\n",
    "print('energyByDay')\n",
    "energyByDay = energyByDay.loc['2017-05-01':'2021-02-01']\n",
    "print(energyByDay.head(5))\n",
    "\n",
    "# Plots\n",
    "combined.plot.scatter('sin_hour','cos_hour', c=\"darkred\").set_aspect('equal')\n",
    "combined.plot.scatter('sin_weekday','cos_weekday', c=\"darkgreen\").set_aspect('equal')\n",
    "combined.plot.scatter('sin_month','cos_month', c=\"orange\").set_aspect('equal')\n",
    "combined.plot.scatter('sin_day','cos_day', c=\"orange\").set_aspect('equal')\n",
    "\n",
    "# Check values\n",
    "print(combined[['time_hour', \n",
    "               'sin_hour', \n",
    "               'cos_hour', \n",
    "               'sin_weekday', \n",
    "               'sin_weekday', \n",
    "               'sin_month', \n",
    "               'cos_month']]\n",
    " )"
   ]
  },
  {
   "cell_type": "markdown",
   "metadata": {},
   "source": [
    "### Smoothing data using the moving average function\n"
   ]
  },
  {
   "cell_type": "code",
   "execution_count": null,
   "metadata": {
    "scrolled": true
   },
   "outputs": [],
   "source": [
    "# Moving average of all variables in the dataframe with defined window-size\n",
    "window = 24\n",
    "# energy_ma = energy.rolling(window=window, min_periods = 1, center=True, closed=\"both\").mean()\n",
    "energy_ma = combined.rolling(window=window).mean()\n",
    "energy_ma.producing[:50]"
   ]
  },
  {
   "cell_type": "markdown",
   "metadata": {},
   "source": [
    "### Visualizing time series data"
   ]
  },
  {
   "cell_type": "code",
   "execution_count": null,
   "metadata": {},
   "outputs": [],
   "source": [
    "# Importing libraries for vizualization\n",
    "import matplotlib.pyplot as plt\n",
    "import seaborn as sns\n",
    "\n",
    "# Use seaborn style defaults and set the default figure size\n",
    "sns.set(rc={'figure.figsize':(11, 4)})"
   ]
  },
  {
   "cell_type": "code",
   "execution_count": null,
   "metadata": {},
   "outputs": [],
   "source": [
    "# Plot electricity production of defined days\n",
    "plt.figure(figsize=(15, 6))\n",
    "plt.plot(combined.producing, color='#008000')\n",
    "plt.title('Electricity procued in Wh')\n",
    "plt.xlabel(\"Year-Month\")\n",
    "plt.ylabel(\"Wh\")\n",
    "plt.grid(True)\n",
    "plt.show()"
   ]
  },
  {
   "cell_type": "code",
   "execution_count": null,
   "metadata": {},
   "outputs": [],
   "source": [
    "# Plot time series as dots, show consumtion, sunshine and mean temparature\n",
    "cols_plot = ['producedDay']\n",
    "axes = energyByDay[cols_plot].plot(marker='.', alpha=0.5, linestyle='None', figsize=(15, 10), subplots=True)\n",
    "axes[0].set_ylabel('Energy produced by day (Wh)')"
   ]
  },
  {
   "cell_type": "code",
   "execution_count": null,
   "metadata": {},
   "outputs": [],
   "source": [
    "# Plot time series as dots, show consumtion, sunshine and mean temparature\n",
    "cols_plot = ['producedMonth']\n",
    "axes = energyByMonth[cols_plot].plot(marker='.', alpha=0.5, linestyle='None', figsize=(15, 10), subplots=True)\n",
    "axes[0].set_ylabel('Energy produced by month (Wh)')"
   ]
  },
  {
   "cell_type": "code",
   "execution_count": null,
   "metadata": {},
   "outputs": [],
   "source": [
    "# Moving average of all variables in the dataframe with defined window-size\n",
    "window = 12\n",
    "# energy_ma = combined.rolling(window=window, min_periods = 1, center=True, closed=\"both\").mean()\n",
    "energyByDay_ma = energyByDay.rolling(window=window).mean()\n",
    "\n",
    "# Moving average of electricity consumtion\n",
    "plt.figure(figsize=(15, 6))\n",
    "plt.plot(energyByDay.loc['2018-01-01':'2018-12-31'].producedDay, label=\"Actual values\", color='brown', linewidth=1)\n",
    "plt.plot(energyByDay_ma.loc['2018-01-01':'2018-12-31'].producedDay, label=\"Moving Average\", color='green', linewidth=3)\n",
    "plt.title('Electricity producedDay')\n",
    "plt.xlabel(\"Year-Month\")\n",
    "plt.ylabel(\"MWh\")\n",
    "plt.legend(loc=\"upper left\")\n",
    "plt.grid(True)\n",
    "plt.show()\n",
    "\n",
    "window = 3\n",
    "energyByMonth_ma = energyByMonth.rolling(window=window).mean()\n",
    "plt.figure(figsize=(15, 6))\n",
    "plt.plot(energyByMonth.loc['2018-01-01':'2018-12-31'].producedMonth, label=\"Actual values\", color='brown', linewidth=1)\n",
    "plt.plot(energyByMonth_ma.loc['2018-01-01':'2018-12-31'].producedMonth, label=\"Moving Average\", color='green', linewidth=3)\n",
    "plt.title('Electricity producedMonth')\n",
    "plt.xlabel(\"Year-Month\")\n",
    "plt.ylabel(\"Degrees\")\n",
    "plt.legend(loc=\"upper left\")\n",
    "plt.grid(True)\n",
    "plt.show()"
   ]
  },
  {
   "cell_type": "code",
   "execution_count": null,
   "metadata": {},
   "outputs": [],
   "source": [
    "#3. Remove all missing values from this new data set.\n",
    "print(combined.isna().sum())\n",
    "combined = combined.dropna()"
   ]
  },
  {
   "cell_type": "code",
   "execution_count": null,
   "metadata": {},
   "outputs": [],
   "source": [
    "print(energyByDay.isna().sum())\n",
    "energyByDay = energyByDay.dropna()"
   ]
  },
  {
   "cell_type": "code",
   "execution_count": null,
   "metadata": {},
   "outputs": [],
   "source": [
    "print(energyByMonth.isna().sum())\n",
    "energyByMonth = energyByMonth.dropna()"
   ]
  },
  {
   "cell_type": "markdown",
   "metadata": {},
   "source": [
    "# Classification and Regression Trees (CART)"
   ]
  },
  {
   "cell_type": "markdown",
   "metadata": {},
   "source": [
    "### (3) Classification Trees\n",
    "* Created for DSF (used as comparison to more advances models)"
   ]
  },
  {
   "cell_type": "code",
   "execution_count": null,
   "metadata": {},
   "outputs": [],
   "source": [
    "from datetime import timedelta\n",
    "\n",
    "# Data (moving average with window size 12)\n",
    "window = 12\n",
    "energyByDay_ma = energyByDay.rolling(window=window).mean()\n",
    "print(energyByDay_ma.head(5))\n",
    "energy_cl = energyByDay_ma['2018-01-01':'2020-12-31']\n",
    "energy_cl = energyByDay_ma.dropna()\n",
    "\n",
    "energy_cl['origDate'] = pd.to_datetime(energy_cl.index).strftime(\"%Y.%m.%d\")\n",
    "energy_cl['date'] = pd.to_datetime(energy_cl.index)\n",
    "energy_cl = energy_cl.set_index('date')\n",
    "#print(energy_rt)\n",
    "energy_cl['powerYesterday'] = 0.0;\n",
    "for idx, data in energy_cl.iterrows():\n",
    "    yesterday = idx - timedelta(days=1)\n",
    "    #print(type(idx), type(yesterday))\n",
    "    yesterDayElem = energy_cl[energy_cl['origDate'].str.contains(yesterday.strftime(\"%Y.%m.%d\"))]\n",
    "    #print(yesterDayElem)\n",
    "    if(len(yesterDayElem) > 0):\n",
    "        #print('adding',yesterday, yesterDayElem.producedDay[0])\n",
    "        energy_cl['powerYesterday'][idx] = yesterDayElem.producedDay[0]\n",
    "    \n",
    "print(energy_cl.head(5))\n",
    "\n",
    "# New binary (0/1) variable showing whether the electricity production is above or below the 75% Percentile\n",
    "energy_cl['predictedproduce'] = 0\n",
    "classnames = []\n",
    "for i in range(0, 10):\n",
    "    classnames.append(str(i))\n",
    "    val = np.max(energyByDay_ma.producedDay) / 10 * i\n",
    "    #print(val)\n",
    "    energy_cl.loc[energy_cl['producedDay'] >= val, 'predictedproduce'] = i\n",
    "\n",
    "# Check new binary variable\n",
    "values, counts = np.unique(energy_cl.predictedproduce, return_counts=True)\n",
    "print(values, counts)\n",
    "print(energy_cl.head(5))\n",
    "\n",
    "# Split data into target variable (y) and explanatory variables (X)\n",
    "feature_cols = ['powerYesterday',\n",
    "                'sin_day',\n",
    "                'cos_day',\n",
    "                'sin_month',\n",
    "                'cos_month'\n",
    "               ]\n",
    "X = energy_cl[feature_cols]        # Features\n",
    "y = energy_cl.predictedproduce     # Target variable\n",
    "\n",
    "# Train and test data\n",
    "X_train = X.loc['2018-01-01':'2018-12-31']\n",
    "X_test = X.loc['2019-01-01':'2019-12-31']\n",
    "y_train = y.loc['2018-01-01':'2018-12-31']\n",
    "y_test = y.loc['2019-01-01':'2019-12-31']\n",
    "\n",
    "# print(X_train.shape, y_train.shape)\n",
    "# print(X_test.shape, y_test.shape)"
   ]
  },
  {
   "cell_type": "code",
   "execution_count": null,
   "metadata": {},
   "outputs": [],
   "source": [
    "# Classification tree\n",
    "from datetime import timedelta\n",
    "from sklearn.tree import DecisionTreeClassifier # Import Decision Tree Classifier\n",
    "from sklearn.model_selection import train_test_split # Import train_test_split function\n",
    "from sklearn import metrics #Import scikit-learn metrics module for accuracy calculation\n",
    "\n",
    "# Create Decision Tree classifer object\n",
    "clf = DecisionTreeClassifier(max_depth=4)\n",
    "\n",
    "# Train Decision Tree Classifer\n",
    "clf = clf.fit(X_train, y_train)\n",
    "\n",
    "# Predict the response for test dataset\n",
    "y_pred = clf.predict(X_test)\n",
    "\n",
    "# Model Accuracy, how often is the classifier correct?\n",
    "print(\"Accuracy:\", metrics.accuracy_score(y_test, y_pred).round(4))"
   ]
  },
  {
   "cell_type": "markdown",
   "metadata": {},
   "source": [
    "### Vizualizing the tree"
   ]
  },
  {
   "cell_type": "code",
   "execution_count": null,
   "metadata": {},
   "outputs": [],
   "source": [
    "from sklearn.tree import export_graphviz\n",
    "from six import StringIO\n",
    "from IPython.display import Image  \n",
    "import pydotplus\n",
    "\n",
    "dot_data = StringIO()\n",
    "export_graphviz(clf, \n",
    "                out_file=dot_data,\n",
    "                filled=True, \n",
    "                rounded=False,\n",
    "                special_characters=True,\n",
    "                feature_names = list(X_train.columns),\n",
    "                class_names=classnames)\n",
    "graph = pydotplus.graph_from_dot_data(dot_data.getvalue())  \n",
    "graph.write_png('classification_tree.png')\n",
    "Image(graph.create_png())"
   ]
  },
  {
   "cell_type": "markdown",
   "metadata": {},
   "source": [
    "### Measuring model performance using cross validation"
   ]
  },
  {
   "cell_type": "code",
   "execution_count": null,
   "metadata": {},
   "outputs": [],
   "source": [
    "import sklearn\n",
    "from sklearn.model_selection import cross_val_score\n",
    "\n",
    "# Get build in cross_validation metrics\n",
    "# print(sorted(sklearn.metrics.SCORERS.keys()))\n",
    "\n",
    "# Calculate metrics: one metric for each single model in the n-fold cross validation\n",
    "scores = cross_val_score(clf, X_test, y_test, cv=10, scoring = 'accuracy')\n",
    "print(\"Cross validation results:\")\n",
    "for i in scores:\n",
    "    print(format(i, '.4f'))\n",
    "\n",
    "# print( format(scores.round(4), '.4f') )\n",
    "\n",
    "# The mean score and the 95% confidence interval of the score estimate are given by:\n",
    "print(\"Accuracy (mean of cross validation): %0.4f (+/- %0.4f)\" % (scores.mean(), scores.std() * 2))"
   ]
  },
  {
   "cell_type": "markdown",
   "metadata": {},
   "source": [
    "### Pruning the tree"
   ]
  },
  {
   "cell_type": "code",
   "execution_count": null,
   "metadata": {},
   "outputs": [],
   "source": [
    "import matplotlib.pyplot as plt\n",
    "from sklearn.model_selection import train_test_split\n",
    "from sklearn.datasets import load_breast_cancer\n",
    "from sklearn.tree import DecisionTreeClassifier\n",
    "\n",
    "# Fit the tree\n",
    "clf = DecisionTreeClassifier(random_state=5)\n",
    "\n",
    "# Pruning\n",
    "# ccp_alpha  = cost complexity parameter\n",
    "# impurity   = Gini impurity\n",
    "path = clf.cost_complexity_pruning_path(X_train, y_train)\n",
    "ccp_alphas, impurities = path.ccp_alphas, path.impurities\n",
    "\n",
    "# Plot total impurity vs effective alpha\n",
    "fig, ax = plt.subplots()\n",
    "ax.plot(ccp_alphas[:-1], impurities[:-1], marker='o', drawstyle=\"steps-post\")\n",
    "ax.set_xlabel(\"effective alpha\")\n",
    "ax.set_ylabel(\"total impurity of leaves\")\n",
    "ax.set_title(\"Total Impurity vs effective alpha for training set\")"
   ]
  },
  {
   "cell_type": "code",
   "execution_count": null,
   "metadata": {},
   "outputs": [],
   "source": [
    "# Next, we train a decision tree using the effective alphas.\n",
    "# The last value in ccp_alphas is the alpha value that prunes the whole tree, \n",
    "# leaving the tree, clfs[-1], with one node.\n",
    "\n",
    "clfs = []\n",
    "for ccp_alpha in ccp_alphas:\n",
    "    clf = DecisionTreeClassifier(random_state=5, ccp_alpha=ccp_alpha)\n",
    "    clf.fit(X_train, y_train)\n",
    "    clfs.append(clf)\n",
    "print(\"Number of nodes in the last tree is: {} with ccp_alpha: {}\".format(\n",
    "      clfs[-1].tree_.node_count, ccp_alphas[-1].round(6)))"
   ]
  },
  {
   "cell_type": "code",
   "execution_count": null,
   "metadata": {},
   "outputs": [],
   "source": [
    "# In the step above we removed the last element in clfs and ccp_alphas, \n",
    "# because it is the trivial tree with only one node. Here we show that \n",
    "# the number of nodes and tree depth decreases as alpha increases.\n",
    "\n",
    "clfs = clfs[:-1]\n",
    "ccp_alphas = ccp_alphas[:-1]\n",
    "\n",
    "# Plots number of nodes vs alpha and depth vs alpha\n",
    "node_counts = [clf.tree_.node_count for clf in clfs]\n",
    "depth = [clf.tree_.max_depth for clf in clfs]\n",
    "fig, ax = plt.subplots(2, 1)\n",
    "ax[0].plot(ccp_alphas, node_counts, marker='o', drawstyle=\"steps-post\")\n",
    "ax[0].set_xlabel(\"alpha\")\n",
    "ax[0].set_ylabel(\"number of nodes\")\n",
    "ax[0].set_title(\"Number of nodes vs alpha\")\n",
    "ax[1].plot(ccp_alphas, depth, marker='o', drawstyle=\"steps-post\")\n",
    "ax[1].set_xlabel(\"alpha\")\n",
    "ax[1].set_ylabel(\"depth of tree\")\n",
    "ax[1].set_title(\"Depth vs alpha\")\n",
    "fig.tight_layout()"
   ]
  },
  {
   "cell_type": "code",
   "execution_count": null,
   "metadata": {},
   "outputs": [],
   "source": [
    "# Prediction accuracy vs alpha for training and testing sets¶:\n",
    "# When ccp_alpha is set to zero and keeping the other default parameters of DecisionTreeClassifier, \n",
    "# the tree overfits, leading to a 100% training accuracy and 82% testing accuracy. As alpha increases, \n",
    "# more of the tree is pruned, thus creating a decision tree that generalizes better. In this example, \n",
    "# setting ccp_alpha=0.000134 maximizes the testing accuracy.\n",
    "\n",
    "train_scores = [clf.score(X_train, y_train) for clf in clfs]\n",
    "test_scores = [clf.score(X_test, y_test) for clf in clfs]\n",
    "print(\"Training accuracy (start value): %0.6f\" % train_scores[0])\n",
    "print(\"Testing accuracy (start value): %0.6f\" % test_scores[0])\n",
    "\n",
    "max_index = dict(zip(test_scores,range(len(test_scores))))[max(test_scores)]\n",
    "print('ccp_alpha with maximized testing accuracy:', ccp_alphas[max_index].round(6))\n",
    "\n",
    "# Plot showing the full range of ccp_alphas, train_scores and test_scores\n",
    "fig, ax = plt.subplots()\n",
    "ax.set_xlabel(\"alpha\")\n",
    "ax.set_ylabel(\"accuracy\")\n",
    "ax.set_title(\"Accuracy vs alpha for training and testing sets\")\n",
    "ax.plot(ccp_alphas, train_scores, marker='o', label=\"train\",\n",
    "        drawstyle=\"steps-post\")\n",
    "ax.plot(ccp_alphas, test_scores, marker='o', label=\"test\",\n",
    "        drawstyle=\"steps-post\")\n",
    "# ax.axvline(ccp_alphas[max_index], color='r', linestyle='--', lw=1)\n",
    "ax.legend()\n",
    "plt.show()"
   ]
  },
  {
   "cell_type": "markdown",
   "metadata": {},
   "source": [
    "### (3) Regression trees\n",
    "* Created for DSF (used as comparison to more advances models)"
   ]
  },
  {
   "cell_type": "code",
   "execution_count": null,
   "metadata": {},
   "outputs": [],
   "source": [
    "# Data\n",
    "from datetime import datetime, timedelta\n",
    "energyByDay_ma = energyByDay.rolling(window=window).mean()\n",
    "energy_rt = energyByDay_ma['2018-01-01':'2020-12-31']\n",
    "energy_rt = energy_rt.dropna()\n",
    "\n",
    "energy_rt['origDate'] = pd.to_datetime(energy_rt.index).strftime(\"%Y.%m.%d\")\n",
    "energy_rt['date'] = pd.to_datetime(energy_rt.index)\n",
    "energy_rt = energy_rt.set_index('date')\n",
    "#print(energy_rt)\n",
    "energy_rt['powerYesterday'] = 0.0;\n",
    "for idx, data in energy_rt.iterrows():\n",
    "    yesterday = idx - timedelta(days=1)\n",
    "    #print(type(idx), type(yesterday))\n",
    "    yesterDayElem = energy_rt[energy_rt['origDate'].str.contains(yesterday.strftime(\"%Y.%m.%d\"))]\n",
    "    #print(yesterDayElem)\n",
    "    if(len(yesterDayElem) > 0):\n",
    "        #print('adding',yesterday, yesterDayElem.producedDay[0])\n",
    "        energy_rt['powerYesterday'][idx] = yesterDayElem.producedDay[0]\n",
    "    \n",
    "print(energy_rt.head(5))\n",
    "\n",
    "# Split data into target variable (y) and explanatory variables (X)\n",
    "feature_cols = ['powerYesterday',\n",
    "                'd0_TEMPERATURE_MAXIMUM',\n",
    "                'sin_day',\n",
    "                'cos_day',\n",
    "                'sin_month',\n",
    "                'cos_month'\n",
    "]\n",
    "\n",
    "X = energy_rt[feature_cols]  # Features\n",
    "y = energy_rt.producedDay   # Target variable\n",
    "\n",
    "# Sampling train and test data\n",
    "X_train = X.loc['2018-01-01':'2018-12-31']\n",
    "X_test  = X.loc['2019-01-01':'2019-12-31']\n",
    "y_train = y.loc['2018-01-01':'2018-12-31']\n",
    "y_test  = y.loc['2019-01-01':'2019-12-31']\n",
    "\n",
    "print(X_train.shape, y_train.shape)\n",
    "print(X_test.shape, y_test.shape)"
   ]
  },
  {
   "cell_type": "code",
   "execution_count": null,
   "metadata": {},
   "outputs": [],
   "source": [
    "# Regression tree\n",
    "from sklearn.model_selection import cross_val_score\n",
    "from sklearn.tree import DecisionTreeRegressor # Decision Decision Tree Regressor\n",
    "from sklearn.model_selection import train_test_split # Import train_test_split function\n",
    "from sklearn import metrics # Import scikit-learn metrics module for accuracy calculation\n",
    "\n",
    "# Create Decision Tree classifer object\n",
    "reg = DecisionTreeRegressor(max_depth=4, random_state = 5)\n",
    "\n",
    "# Train Decision Tree Classifer\n",
    "reg = reg.fit(X_train, y_train)\n",
    "\n",
    "# Cross validation using R2 as cv-score\n",
    "cv_score = cross_val_score(reg, X_test, y_test, cv=5, scoring ='r2')\n",
    "print(\"R2 (cross validation mean): %0.2f (+/- %0.2f)\" % (cv_score.mean(), cv_score.std() * 2))\n",
    "\n",
    "# Predict the response for test dataset\n",
    "y_pred = reg.predict(X_test)\n",
    "\n",
    "# Plot target variable versus prediction\n",
    "import numpy as np\n",
    "import matplotlib.pyplot as plt\n",
    "\n",
    "m, b = np.polyfit(y_test, y_pred, 1)\n",
    "plt.scatter(y_test, y_pred, alpha=1.0)\n",
    "plt.plot(y_test, m*y_test + b, color=\"red\")\n",
    "plt.title('Regression Tree: Electricity production vs. prediction of electricity production')\n",
    "plt.xlabel('Electricity production Wh (prediction)')\n",
    "plt.ylabel('Electricity production Wh')\n",
    "plt.show()"
   ]
  },
  {
   "cell_type": "code",
   "execution_count": null,
   "metadata": {},
   "outputs": [],
   "source": [
    "# Vizualizing the tree\n",
    "from sklearn.tree import export_graphviz\n",
    "from six import StringIO \n",
    "from IPython.display import Image  \n",
    "import pydotplus\n",
    "\n",
    "dot_data = StringIO()\n",
    "export_graphviz(reg, \n",
    "                out_file=dot_data,\n",
    "                filled=True, \n",
    "                rounded=False,\n",
    "                special_characters=True,\n",
    "                feature_names = list(X_train.columns)\n",
    "               )\n",
    "graph = pydotplus.graph_from_dot_data(dot_data.getvalue())  \n",
    "graph.write_png('regression_tree.png')\n",
    "Image(graph.create_png())"
   ]
  },
  {
   "cell_type": "markdown",
   "metadata": {},
   "source": [
    "### (3) Random Forest\n",
    "* Created for DSF (used as comparison to more advances models)"
   ]
  },
  {
   "cell_type": "code",
   "execution_count": null,
   "metadata": {
    "scrolled": true
   },
   "outputs": [],
   "source": [
    "# Data\n",
    "energy.sub = combined.loc['2009-01-01':'2018-12-31']\n",
    "energy.sub = combined.sub.dropna()\n",
    "\n",
    "# Target and exaplanatory variables\n",
    "y = pd.DataFrame(energy.sub,columns=['total_cons'])\n",
    "X = pd.DataFrame(energy.sub,columns=['cloudcover',\n",
    "                                    'humidity',\n",
    "                                    'precipitation',\n",
    "                                    'snowdepth',\n",
    "                                    'sunshine',\n",
    "                                    'temperature_mean', \n",
    "                                    'temperature_max', \n",
    "                                    'temperature_min',\n",
    "                                    'sin_hour', \n",
    "                                    'cos_hour', \n",
    "                                    'sin_weekday',\n",
    "                                    'cos_weekday',\n",
    "                                    'sin_month',\n",
    "                                    'cos_month'\n",
    "                                    ]\n",
    "                    )\n",
    "\n",
    "# One hot encoding weekdays and hours\n",
    "# X = pd.concat([X,pd.get_dummies(energy.sub['weekday'], prefix='wd')], axis=1)\n",
    "# X = pd.concat([X,pd.get_dummies(energy.sub['time_hour'], prefix='hr')], axis=1)\n",
    "\n",
    "# Train and test data\n",
    "X_train = X.loc['2009-01-01':'2018-04-30']\n",
    "X_test  = X.loc['2018-05-01':'2018-05-31']\n",
    "y_train = y.loc['2009-01-01':'2018-04-30']\n",
    "y_test  = y.loc['2018-05-01':'2018-05-31']\n",
    "\n",
    "# print(x_train.shape, y_train.shape)\n",
    "# print(x_test.shape, y_test.shape)"
   ]
  },
  {
   "cell_type": "code",
   "execution_count": null,
   "metadata": {},
   "outputs": [],
   "source": [
    "#6. Develop a random forest (RF) model on the basis of 'the new data' set.  \n",
    "#   => Is based on moving avarage (MA)\n",
    "energy_ma.sub = energy_ma.loc['2009-01-01':'2018-12-31']\n",
    "energy_ma.sub = energy_ma.sub.dropna()\n",
    "\n",
    "# Target and exaplanatory variables\n",
    "y2 = pd.DataFrame(energy_ma.sub,columns=['total_cons'])\n",
    "X2 = pd.DataFrame(energy_ma.sub,columns=['cloudcover',\n",
    "                                    'humidity',\n",
    "                                    'precipitation',\n",
    "                                    'snowdepth',\n",
    "                                    'sunshine',\n",
    "                                    'temperature_mean', \n",
    "                                    'temperature_max', \n",
    "                                    'temperature_min',\n",
    "                                    'sin_hour', \n",
    "                                    'cos_hour', \n",
    "                                    'sin_weekday',\n",
    "                                    'cos_weekday',\n",
    "                                    'sin_month',\n",
    "                                    'cos_month'\n",
    "                                    ]\n",
    "                    )\n",
    "\n",
    "# One hot encoding weekdays and hours\n",
    "# X = pd.concat([X,pd.get_dummies(energy.sub['weekday'], prefix='wd')], axis=1)\n",
    "# X = pd.concat([X,pd.get_dummies(energy.sub['time_hour'], prefix='hr')], axis=1)\n",
    "\n",
    "# Train and test data\n",
    "X_train2 = X2.loc['2009-01-01':'2018-04-30']\n",
    "X_test2  = X2.loc['2018-05-01':'2018-05-31']\n",
    "y_train2 = y2.loc['2009-01-01':'2018-04-30']\n",
    "y_test2 = y2.loc['2018-05-01':'2018-05-31']\n",
    "\n",
    "# print(x_train.shape, y_train.shape)\n",
    "# print(x_test.shape, y_test.shape)"
   ]
  },
  {
   "cell_type": "code",
   "execution_count": null,
   "metadata": {},
   "outputs": [],
   "source": [
    "import seaborn as sns\n",
    "# Visually check for correlation between the explanatory variables (mulicollinearity)\n",
    "# Settings: https://likegeeks.com/seaborn-heatmap-tutorial\n",
    "plt.figure(figsize=(18, 18))\n",
    "sns.heatmap(X_train.corr(), cmap=\"YlGnBu\")\n",
    "plt.show()"
   ]
  },
  {
   "cell_type": "code",
   "execution_count": null,
   "metadata": {},
   "outputs": [],
   "source": [
    "# Random forest regression\n",
    "import sklearn\n",
    "from sklearn.ensemble import RandomForestRegressor\n",
    "from sklearn.tree import DecisionTreeRegressor\n",
    "\n",
    "m1 = RandomForestRegressor(n_estimators=100,max_depth=20)\n",
    "m1.fit(X_train,y_train)"
   ]
  },
  {
   "cell_type": "markdown",
   "metadata": {},
   "source": [
    "### Feature importance"
   ]
  },
  {
   "cell_type": "code",
   "execution_count": null,
   "metadata": {},
   "outputs": [],
   "source": [
    "cols = X_train.columns\n",
    "\n",
    "# Derive feature importance from random forest\n",
    "importances = m1.feature_importances_\n",
    "std         = np.std([tree.feature_importances_ for tree in m1.estimators_], axis=0)\n",
    "indices     = np.argsort(importances)[::-1]\n",
    "\n",
    "# print( cols[indices] )\n",
    "# print( importances[indices] )\n",
    "\n",
    "# Barplot with feature importance\n",
    "df = pd.DataFrame({'features':cols,'importances': importances})\n",
    "df.sort_values('importances', inplace=True)\n",
    "df.plot(kind='barh', y='importances', x='features', color='r', figsize=(15,5))"
   ]
  },
  {
   "cell_type": "code",
   "execution_count": null,
   "metadata": {},
   "outputs": [],
   "source": [
    "m1_predict_train = m1.predict(X_train).reshape(-1,1)\n",
    "m1_predict_test  = m1.predict(X_test).reshape(-1,1)\n",
    "print(m1_predict_train.shape)\n",
    "print(m1_predict_test.shape)"
   ]
  },
  {
   "cell_type": "code",
   "execution_count": null,
   "metadata": {},
   "outputs": [],
   "source": [
    "# Plot training data along with its predictions\n",
    "plt.figure(figsize=(15,5))\n",
    "plt.plot(X_train.index, y_train,'r.')\n",
    "plt.plot(X_train.index, m1_predict_train,'b.')"
   ]
  },
  {
   "cell_type": "code",
   "execution_count": null,
   "metadata": {},
   "outputs": [],
   "source": [
    "# Plot test data along with its predictions\n",
    "plt.figure(figsize=(15,5))\n",
    "plt.plot(X_test.index, y_test, color='darkgreen', label='electricity_consumtion')\n",
    "plt.plot(X_test.index, m1_predict_test, color='darkred', label='model predictions')\n",
    "plt.legend(loc=\"upper left\")"
   ]
  },
  {
   "cell_type": "markdown",
   "metadata": {},
   "source": [
    "### Measuring the model performance"
   ]
  },
  {
   "cell_type": "code",
   "execution_count": null,
   "metadata": {},
   "outputs": [],
   "source": [
    "from sklearn.model_selection import cross_val_score\n",
    "from sklearn.metrics import make_scorer\n",
    "\n",
    "# Get build in cross_validation metrics\n",
    "# print(sorted(sklearn.metrics.SCORERS.keys()))\n",
    "\n",
    "# Construct additional scorer ...\n",
    "\n",
    "# MAPE (mean absolute percentage error)\n",
    "# https://en.wikipedia.org/wiki/Mean_absolute_percentage_error\n",
    "def mean_absolute_percentage_error(y_true, y_pred): \n",
    "    y_true, y_pred = np.array(y_true), np.array(y_pred)\n",
    "    return np.mean(np.abs((y_true - y_pred) / y_true)) * 100\n",
    "mape_scorer = make_scorer(mean_absolute_percentage_error)\n",
    "\n",
    "# MSE (mean squared error)\n",
    "from sklearn.metrics import mean_squared_error\n",
    "mse_scorer = make_scorer(mean_squared_error)\n",
    "\n",
    "# Calculate metrics: one metric for each single model in the n-fold cross validation\n",
    "scores = cross_val_score(m1, X_test, y_test, cv=5, scoring = mape_scorer)\n",
    "print(scores.round(2))\n",
    "\n",
    "# The mean score and the 95% confidence interval of the score estimate are given by:\n",
    "print(\"MAPE (cross validation mean): %0.2f (+/- %0.2f)\" % (scores.mean(), scores.std() * 2))"
   ]
  },
  {
   "cell_type": "markdown",
   "metadata": {},
   "source": [
    "### (3) TODO Create analysis based on advanced Deep Learning Strukturs (CNN, RNN, Transfer Learning, Transformers…)"
   ]
  },
  {
   "cell_type": "code",
   "execution_count": 4,
   "metadata": {
    "scrolled": true
   },
   "outputs": [
    {
     "name": "stdout",
     "output_type": "stream",
     "text": [
      "loaded combined and cleaned data\n",
      "Shape (73921, 68)\n"
     ]
    }
   ],
   "source": [
    "# Importing libraries\n",
    "import os\n",
    "import numpy as np # vectors and matrices\n",
    "import pandas as pd # tables and data manipulations\n",
    "pd.set_option('mode.use_inf_as_na', True)\n",
    "pd.set_option('display.max_rows', 80)\n",
    "from matplotlib import pyplot as plt\n",
    "\n",
    "import warnings\n",
    "warnings.filterwarnings('ignore')\n",
    "\n",
    "#Loading data\n",
    "if not os.path.isfile(\"combinedDataIncludingCleanup.csv\"):\n",
    "    print('Can not load data cache')\n",
    "else:\n",
    "    combined = pd.read_csv('combinedDataIncludingCleanup.csv', index_col=0)\n",
    "print('loaded combined and cleaned data')\n",
    "print(\"Shape\",combined.shape)\n",
    "#combined.describe"
   ]
  },
  {
   "cell_type": "code",
   "execution_count": 5,
   "metadata": {
    "scrolled": true
   },
   "outputs": [],
   "source": [
    "#combined.dtypes"
   ]
  },
  {
   "cell_type": "code",
   "execution_count": 6,
   "metadata": {
    "scrolled": true
   },
   "outputs": [
    {
     "name": "stdout",
     "output_type": "stream",
     "text": [
      "Shape train (710, 18) (710,)\n",
      "Shape test (354, 18) (354,)\n",
      "Created train and test set\n"
     ]
    }
   ],
   "source": [
    "from datetime import datetime, timedelta\n",
    "\n",
    "interateParams = ['icon','temp','templow','baro','wind','wd','hum']\n",
    "\n",
    "#Create train and testset (based on movign avrage, probably create one without moving avrage)\n",
    "energyByDay = combined.groupby(['year','month','day']).tail(1)\n",
    "energyByDay_ma = energyByDay.rolling(window=12).mean()\n",
    "energy_rt = energyByDay_ma['2018-01-01':'2020-12-31']\n",
    "energy_rt = energy_rt.dropna()\n",
    "\n",
    "energy_rt['origDate'] = pd.to_datetime(energy_rt.index).strftime(\"%Y.%m.%d\")\n",
    "energy_rt['date'] = pd.to_datetime(energy_rt.index)\n",
    "energy_rt = energy_rt.set_index('date')\n",
    "#print(energy_rt)\n",
    "energy_rt['powerTomorrow'] = 0.0;\n",
    "for _, element in enumerate(interateParams):\n",
    "    elementName = element + 'Tomorrow'\n",
    "    if(elementName not in combined):\n",
    "        if(element == 'desc'):\n",
    "            energy_rt[elementName] = \"\"\n",
    "        else:\n",
    "            energy_rt[elementName] = 0.0\n",
    "for idx, data in energy_rt.iterrows():\n",
    "    tomorrow = idx + timedelta(days=1)\n",
    "    #print(type(idx), type(tomorrow))\n",
    "    tomorrowDayElem = energy_rt[energy_rt['origDate'].str.contains(tomorrow.strftime(\"%Y.%m.%d\"))]\n",
    "    #print(tomorrowDayElem)\n",
    "    if(len(tomorrowDayElem) > 0):\n",
    "        #print('adding',tomorrow, tomorrowDayElem.producedDay[0])\n",
    "        energy_rt['powerTomorrow'][idx] = tomorrowDayElem.producedDay[0]\n",
    "        for _, element in enumerate(interateParams):\n",
    "            elementName = element + 'Tomorrow'  \n",
    "            if element == 'desc': \n",
    "                energy_rt[elementName][idx] = tomorrowDayElem[element].item()\n",
    "            else:\n",
    "                #print('setting',element,\"to\",elementName,\"at\",idx,tomorrowDayElem[element].item(), tomorrowDayElem[element].dtype, energy_rt[elementName].dtype)\n",
    "                energy_rt[elementName][idx] = tomorrowDayElem[element].item()\n",
    "                \n",
    "#print(energy_rt.describe())\n",
    "#print(energy_rt.dtypes)\n",
    "\n",
    "# Split data into target variable (y) and explanatory variables (X)\n",
    "feature_cols = ['producedDay',\n",
    "                'd0_TEMPERATURE_MAXIMUM',\n",
    "                'sin_day',\n",
    "                'cos_day',\n",
    "                'sin_month',\n",
    "                'cos_month',\n",
    "                'temp',\n",
    "                'templow',\n",
    "                'baro',\n",
    "                'wind',\n",
    "                'wd',\n",
    "                'hum',\n",
    "                'tempTomorrow',\n",
    "                'templowTomorrow',\n",
    "                'baroTomorrow',\n",
    "                'windTomorrow',\n",
    "                'wdTomorrow',\n",
    "                'humTomorrow' \n",
    "]\n",
    "\n",
    "X = energy_rt[feature_cols]  # Features\n",
    "#print('Features (X) to learn from')\n",
    "#print(X.dtypes)\n",
    "y = energy_rt.powerTomorrow   # Target variable\n",
    "#print('Result (y) powerTomorrow')\n",
    "\n",
    "# Sampling train and test data\n",
    "X_train = X.loc['2018-01-01':'2019-12-31']\n",
    "y_train = y.loc['2018-01-01':'2019-12-31']\n",
    "\n",
    "X_test  = X.loc['2020-01-01':'2020-12-31']\n",
    "y_test  = y.loc['2020-01-01':'2020-12-31']\n",
    "\n",
    "print(\"Shape train\",X_train.shape, y_train.shape)\n",
    "print(\"Shape test\",X_test.shape, y_test.shape)\n",
    "print(\"Created train and test set\")"
   ]
  },
  {
   "cell_type": "code",
   "execution_count": 7,
   "metadata": {},
   "outputs": [],
   "source": [
    "#X.head(5)"
   ]
  },
  {
   "cell_type": "code",
   "execution_count": 8,
   "metadata": {},
   "outputs": [],
   "source": [
    "#X.describe()"
   ]
  },
  {
   "cell_type": "code",
   "execution_count": 9,
   "metadata": {},
   "outputs": [
    {
     "name": "stdout",
     "output_type": "stream",
     "text": [
      "tf 2.3.0\n",
      "keras 2.4.0\n"
     ]
    }
   ],
   "source": [
    "import tensorflow as tf\n",
    "from tensorflow import keras\n",
    "import matplotlib.pyplot as plt\n",
    "import os\n",
    "import numpy as np\n",
    "from collections import deque\n",
    "\n",
    "from tensorflow.keras.models import Sequential\n",
    "from tensorflow.keras import layers\n",
    "from tensorflow.keras.layers import LSTM, Dense, Dropout, Bidirectional\n",
    "from tensorflow.keras.wrappers.scikit_learn import KerasRegressor\n",
    "from tensorflow.keras.callbacks import ModelCheckpoint, TensorBoard\n",
    "from tensorflow.keras.layers.experimental import preprocessing\n",
    "\n",
    "from sklearn.model_selection import cross_val_score\n",
    "from sklearn.model_selection import KFold\n",
    "from sklearn import preprocessing\n",
    "from sklearn.model_selection import train_test_split\n",
    "\n",
    "print('tf', tf.__version__)\n",
    "print('keras',keras.__version__)"
   ]
  },
  {
   "cell_type": "code",
   "execution_count": 10,
   "metadata": {},
   "outputs": [
    {
     "name": "stdout",
     "output_type": "stream",
     "text": [
      "Model: \"sequential\"\n",
      "_________________________________________________________________\n",
      "Layer (type)                 Output Shape              Param #   \n",
      "=================================================================\n",
      "dense (Dense)                (None, 32)                608       \n",
      "_________________________________________________________________\n",
      "dense_1 (Dense)              (None, 64)                2112      \n",
      "_________________________________________________________________\n",
      "dense_2 (Dense)              (None, 1)                 65        \n",
      "=================================================================\n",
      "Total params: 2,785\n",
      "Trainable params: 2,785\n",
      "Non-trainable params: 0\n",
      "_________________________________________________________________\n",
      "learning phase... (takes up to 1 min)\n"
     ]
    },
    {
     "data": {
      "image/png": "[encoded data removed]",
      "text/plain": [
       "<Figure size 432x288 with 1 Axes>"
      ]
     },
     "metadata": {
      "needs_background": "light"
     },
     "output_type": "display_data"
    },
    {
     "name": "stdout",
     "output_type": "stream",
     "text": [
      "23/23 [==============================] - 0s 0s/step - loss: 3.8478 - root_mean_squared_error: 1.9616\n",
      "12/12 [==============================] - 0s 1ms/step - loss: 3.4226 - root_mean_squared_error: 1.8500\n",
      "r2_score 0.9947244564943293\n"
     ]
    },
    {
     "data": {
      "image/png": "[encoded data removed]",
      "text/plain": [
       "<Figure size 1152x432 with 1 Axes>"
      ]
     },
     "metadata": {
      "needs_background": "light"
     },
     "output_type": "display_data"
    },
    {
     "data": {
      "text/html": [
       "<div>\n",
       "<style scoped>\n",
       "    .dataframe tbody tr th:only-of-type {\n",
       "        vertical-align: middle;\n",
       "    }\n",
       "\n",
       "    .dataframe tbody tr th {\n",
       "        vertical-align: top;\n",
       "    }\n",
       "\n",
       "    .dataframe thead th {\n",
       "        text-align: right;\n",
       "    }\n",
       "</style>\n",
       "<table border=\"1\" class=\"dataframe\">\n",
       "  <thead>\n",
       "    <tr style=\"text-align: right;\">\n",
       "      <th></th>\n",
       "      <th>Predicted Production</th>\n",
       "      <th>Real Production</th>\n",
       "    </tr>\n",
       "  </thead>\n",
       "  <tbody>\n",
       "    <tr>\n",
       "      <th>10</th>\n",
       "      <td>17.589315</td>\n",
       "      <td>19.616667</td>\n",
       "    </tr>\n",
       "    <tr>\n",
       "      <th>11</th>\n",
       "      <td>20.041666</td>\n",
       "      <td>21.008333</td>\n",
       "    </tr>\n",
       "    <tr>\n",
       "      <th>12</th>\n",
       "      <td>22.044054</td>\n",
       "      <td>23.341667</td>\n",
       "    </tr>\n",
       "    <tr>\n",
       "      <th>13</th>\n",
       "      <td>23.958662</td>\n",
       "      <td>25.575000</td>\n",
       "    </tr>\n",
       "    <tr>\n",
       "      <th>14</th>\n",
       "      <td>26.056828</td>\n",
       "      <td>28.116667</td>\n",
       "    </tr>\n",
       "    <tr>\n",
       "      <th>15</th>\n",
       "      <td>28.261208</td>\n",
       "      <td>26.075000</td>\n",
       "    </tr>\n",
       "    <tr>\n",
       "      <th>16</th>\n",
       "      <td>27.423365</td>\n",
       "      <td>26.925000</td>\n",
       "    </tr>\n",
       "    <tr>\n",
       "      <th>17</th>\n",
       "      <td>27.250360</td>\n",
       "      <td>27.283333</td>\n",
       "    </tr>\n",
       "    <tr>\n",
       "      <th>18</th>\n",
       "      <td>28.041531</td>\n",
       "      <td>28.625000</td>\n",
       "    </tr>\n",
       "    <tr>\n",
       "      <th>19</th>\n",
       "      <td>28.386927</td>\n",
       "      <td>27.916667</td>\n",
       "    </tr>\n",
       "  </tbody>\n",
       "</table>\n",
       "</div>"
      ],
      "text/plain": [
       "    Predicted Production  Real Production\n",
       "10             17.589315        19.616667\n",
       "11             20.041666        21.008333\n",
       "12             22.044054        23.341667\n",
       "13             23.958662        25.575000\n",
       "14             26.056828        28.116667\n",
       "15             28.261208        26.075000\n",
       "16             27.423365        26.925000\n",
       "17             27.250360        27.283333\n",
       "18             28.041531        28.625000\n",
       "19             28.386927        27.916667"
      ]
     },
     "execution_count": 10,
     "metadata": {},
     "output_type": "execute_result"
    }
   ],
   "source": [
    "#RUN - MODEL 1\n",
    "print('RUN - MODEL 1')\n",
    "n_layers_model1 = [32, 64]\n",
    "model1 = tf.keras.models.Sequential()\n",
    "for i, nodes in enumerate(n_layers_model1):\n",
    "    if i==0:\n",
    "        model1.add(Dense(nodes, activation='relu', kernel_initializer='normal', input_dim=X_train.shape[1]))\n",
    "    else:\n",
    "        model1.add(Dense(nodes, activation='relu', kernel_initializer='normal'))\n",
    "model1.add(Dense(1))\n",
    "model1.compile(loss='mse', optimizer='adam', metrics=[tf.keras.metrics.RootMeanSquaredError()])\n",
    "model1.summary()\n",
    "\n",
    "print('learning phase... (takes up to 1 min)')\n",
    "#set verbose to 1 or 2 or 3 if you want to have info about fit\n",
    "hist1 = model1.fit(X_train, y_train, batch_size=32, validation_data=(X_test, y_test), epochs=200, verbose=0)\n",
    "\n",
    "plt.plot(hist1.history['root_mean_squared_error'])\n",
    "plt.title('Model1 - Root Mean Squares Error')\n",
    "plt.xlabel('Epoch')\n",
    "plt.ylabel('mse (error)')\n",
    "plt.show()\n",
    "\n",
    "model1.evaluate(X_train, y_train)\n",
    "model1.evaluate(X_test, y_test)\n",
    "\n",
    "y_train_pred_m1 = model1.predict(X_train)\n",
    "y_test_pred_m1 = model1.predict(X_test)\n",
    "\n",
    "from sklearn.metrics import r2_score\n",
    "print('r2_score', r2_score(y_test_pred_m1, y_test))\n",
    "\n",
    "plt.figure(figsize=(16,6))\n",
    "plt.scatter(y_test_pred_m1, y_test)\n",
    "plt.xlabel('Predicted Production')\n",
    "plt.ylabel('Real Production')\n",
    "plt.title('Predicted Production vs. Real Production')\n",
    "plt.show()\n",
    "\n",
    "combined = np.array([y_test_pred_m1.transpose()[0], np.array(y_test)]).transpose()\n",
    "results = pd.DataFrame(data=combined)\n",
    "results.columns = ['Predicted Production', 'Real Production']\n",
    "results[10:20]"
   ]
  },
  {
   "cell_type": "code",
   "execution_count": 14,
   "metadata": {},
   "outputs": [
    {
     "name": "stdout",
     "output_type": "stream",
     "text": [
      "RUN - MODEL 2\n",
      "Model: \"sequential_4\"\n",
      "_________________________________________________________________\n",
      "Layer (type)                 Output Shape              Param #   \n",
      "=================================================================\n",
      "dense_13 (Dense)             (None, 32)                608       \n",
      "_________________________________________________________________\n",
      "dense_14 (Dense)             (None, 64)                2112      \n",
      "_________________________________________________________________\n",
      "dense_15 (Dense)             (None, 8)                 520       \n",
      "_________________________________________________________________\n",
      "dense_16 (Dense)             (None, 1)                 9         \n",
      "=================================================================\n",
      "Total params: 3,249\n",
      "Trainable params: 3,249\n",
      "Non-trainable params: 0\n",
      "_________________________________________________________________\n",
      "learning phase... (takes up to 1 min)\n"
     ]
    },
    {
     "data": {
      "image/png": "[encoded data removed]",
      "text/plain": [
       "<Figure size 432x288 with 1 Axes>"
      ]
     },
     "metadata": {
      "needs_background": "light"
     },
     "output_type": "display_data"
    },
    {
     "name": "stdout",
     "output_type": "stream",
     "text": [
      "23/23 [==============================] - 0s 725us/step - loss: 3.0546 - root_mean_squared_error: 1.7477\n",
      "12/12 [==============================] - 0s 1ms/step - loss: 2.8802 - root_mean_squared_error: 1.6971\n",
      "r2_score 0.9955186970147583\n"
     ]
    },
    {
     "data": {
      "image/png": "[encoded data removed]",
      "text/plain": [
       "<Figure size 1152x432 with 1 Axes>"
      ]
     },
     "metadata": {
      "needs_background": "light"
     },
     "output_type": "display_data"
    },
    {
     "data": {
      "text/html": [
       "<div>\n",
       "<style scoped>\n",
       "    .dataframe tbody tr th:only-of-type {\n",
       "        vertical-align: middle;\n",
       "    }\n",
       "\n",
       "    .dataframe tbody tr th {\n",
       "        vertical-align: top;\n",
       "    }\n",
       "\n",
       "    .dataframe thead th {\n",
       "        text-align: right;\n",
       "    }\n",
       "</style>\n",
       "<table border=\"1\" class=\"dataframe\">\n",
       "  <thead>\n",
       "    <tr style=\"text-align: right;\">\n",
       "      <th></th>\n",
       "      <th>Predicted Production</th>\n",
       "      <th>Real Production</th>\n",
       "    </tr>\n",
       "  </thead>\n",
       "  <tbody>\n",
       "    <tr>\n",
       "      <th>10</th>\n",
       "      <td>18.217422</td>\n",
       "      <td>19.616667</td>\n",
       "    </tr>\n",
       "    <tr>\n",
       "      <th>11</th>\n",
       "      <td>20.162952</td>\n",
       "      <td>21.008333</td>\n",
       "    </tr>\n",
       "    <tr>\n",
       "      <th>12</th>\n",
       "      <td>22.257679</td>\n",
       "      <td>23.341667</td>\n",
       "    </tr>\n",
       "    <tr>\n",
       "      <th>13</th>\n",
       "      <td>24.103685</td>\n",
       "      <td>25.575000</td>\n",
       "    </tr>\n",
       "    <tr>\n",
       "      <th>14</th>\n",
       "      <td>26.179358</td>\n",
       "      <td>28.116667</td>\n",
       "    </tr>\n",
       "    <tr>\n",
       "      <th>15</th>\n",
       "      <td>28.135273</td>\n",
       "      <td>26.075000</td>\n",
       "    </tr>\n",
       "    <tr>\n",
       "      <th>16</th>\n",
       "      <td>27.482101</td>\n",
       "      <td>26.925000</td>\n",
       "    </tr>\n",
       "    <tr>\n",
       "      <th>17</th>\n",
       "      <td>27.184929</td>\n",
       "      <td>27.283333</td>\n",
       "    </tr>\n",
       "    <tr>\n",
       "      <th>18</th>\n",
       "      <td>28.016665</td>\n",
       "      <td>28.625000</td>\n",
       "    </tr>\n",
       "    <tr>\n",
       "      <th>19</th>\n",
       "      <td>28.000204</td>\n",
       "      <td>27.916667</td>\n",
       "    </tr>\n",
       "  </tbody>\n",
       "</table>\n",
       "</div>"
      ],
      "text/plain": [
       "    Predicted Production  Real Production\n",
       "10             18.217422        19.616667\n",
       "11             20.162952        21.008333\n",
       "12             22.257679        23.341667\n",
       "13             24.103685        25.575000\n",
       "14             26.179358        28.116667\n",
       "15             28.135273        26.075000\n",
       "16             27.482101        26.925000\n",
       "17             27.184929        27.283333\n",
       "18             28.016665        28.625000\n",
       "19             28.000204        27.916667"
      ]
     },
     "execution_count": 14,
     "metadata": {},
     "output_type": "execute_result"
    }
   ],
   "source": [
    "#RUN - MODEL 2\n",
    "print('RUN - MODEL 2')\n",
    "#Change the following:\n",
    "# add layers in n_layers_model2\n",
    "# epochs\n",
    "# activation functions\n",
    "# kernel_initializer\n",
    "# loss function\n",
    "# optimizer\n",
    "\n",
    "#Then compare result r2_score, mse between different models\n",
    "\n",
    "n_layers_model2 = [32, 64, 8]\n",
    "model2 = tf.keras.models.Sequential()\n",
    "for i, nodes in enumerate(n_layers_model2):\n",
    "    if i==0:\n",
    "        model2.add(Dense(nodes, activation='relu', kernel_initializer='normal', input_dim=X_train.shape[1]))\n",
    "    else:\n",
    "        model2.add(Dense(nodes, activation='relu', kernel_initializer='normal'))\n",
    "model2.add(Dense(1))\n",
    "model2.compile(loss='mse', optimizer='adam', metrics=[tf.keras.metrics.RootMeanSquaredError()])\n",
    "model2.summary()\n",
    "\n",
    "print('learning phase... (takes up to 1 min)')\n",
    "#set verbose to 1 or 2 or 3 if you want to have info about fit\n",
    "hist2 = model2.fit(X_train, y_train, batch_size=32, validation_data=(X_test, y_test), epochs=300, verbose=0)\n",
    "\n",
    "plt.plot(hist2.history['root_mean_squared_error'])\n",
    "plt.title('Model2 - Root Mean Squares Error')\n",
    "plt.xlabel('Epoch')\n",
    "plt.ylabel('mse (error)')\n",
    "plt.show()\n",
    "\n",
    "model2.evaluate(X_train, y_train)\n",
    "model2.evaluate(X_test, y_test)\n",
    "\n",
    "y_train_pred_m2 = model2.predict(X_train)\n",
    "y_test_pred_m2 = model2.predict(X_test)\n",
    "\n",
    "from sklearn.metrics import r2_score\n",
    "print('r2_score', r2_score(y_test_pred_m2, y_test))\n",
    "\n",
    "plt.figure(figsize=(16,6))\n",
    "plt.scatter(y_test_pred_m2, y_test)\n",
    "plt.xlabel('Predicted Production')\n",
    "plt.ylabel('Real Production')\n",
    "plt.title('Predicted Production vs. Real Production')\n",
    "plt.show()\n",
    "\n",
    "combined = np.array([y_test_pred_m2.transpose()[0], np.array(y_test)]).transpose()\n",
    "results = pd.DataFrame(data=combined)\n",
    "results.columns = ['Predicted Production', 'Real Production']\n",
    "results[10:20]"
   ]
  },
  {
   "cell_type": "markdown",
   "metadata": {},
   "source": [
    "### (4) TODO Save models into files and load them again"
   ]
  },
  {
   "cell_type": "code",
   "execution_count": null,
   "metadata": {},
   "outputs": [],
   "source": []
  },
  {
   "cell_type": "markdown",
   "metadata": {},
   "source": [
    "### (5) Consideration Ethical issues in connection with the project"
   ]
  },
  {
   "cell_type": "markdown",
   "metadata": {},
   "source": []
  },
  {
   "cell_type": "code",
   "execution_count": null,
   "metadata": {},
   "outputs": [],
   "source": []
  }
 ],
 "metadata": {
  "kernelspec": {
   "display_name": "Python 3",
   "language": "python",
   "name": "python3"
  },
  "language_info": {
   "codemirror_mode": {
    "name": "ipython",
    "version": 3
   },
   "file_extension": ".py",
   "mimetype": "text/x-python",
   "name": "python",
   "nbconvert_exporter": "python",
   "pygments_lexer": "ipython3",
   "version": "3.8.8"
  }
 },
 "nbformat": 4,
 "nbformat_minor": 4
}
